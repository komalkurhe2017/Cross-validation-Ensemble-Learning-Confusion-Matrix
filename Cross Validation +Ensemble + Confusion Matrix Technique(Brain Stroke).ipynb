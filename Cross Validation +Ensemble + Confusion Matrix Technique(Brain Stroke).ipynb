{
 "cells": [
  {
   "cell_type": "code",
   "execution_count": 1,
   "id": "6c0c4cda",
   "metadata": {},
   "outputs": [],
   "source": [
    "import pandas as pd\n",
    "import numpy as np\n"
   ]
  },
  {
   "cell_type": "code",
   "execution_count": 2,
   "id": "ff851c6c",
   "metadata": {},
   "outputs": [],
   "source": [
    "data=pd.read_csv(r\"D:/MLAI/dataset/Brain Stroke.csv\")"
   ]
  },
  {
   "cell_type": "code",
   "execution_count": 3,
   "id": "caf49427",
   "metadata": {},
   "outputs": [
    {
     "data": {
      "text/html": [
       "<div>\n",
       "<style scoped>\n",
       "    .dataframe tbody tr th:only-of-type {\n",
       "        vertical-align: middle;\n",
       "    }\n",
       "\n",
       "    .dataframe tbody tr th {\n",
       "        vertical-align: top;\n",
       "    }\n",
       "\n",
       "    .dataframe thead th {\n",
       "        text-align: right;\n",
       "    }\n",
       "</style>\n",
       "<table border=\"1\" class=\"dataframe\">\n",
       "  <thead>\n",
       "    <tr style=\"text-align: right;\">\n",
       "      <th></th>\n",
       "      <th>gender</th>\n",
       "      <th>age</th>\n",
       "      <th>hypertension</th>\n",
       "      <th>heart_disease</th>\n",
       "      <th>ever_married</th>\n",
       "      <th>work_type</th>\n",
       "      <th>Residence_type</th>\n",
       "      <th>avg_glucose_level</th>\n",
       "      <th>bmi</th>\n",
       "      <th>smoking_status</th>\n",
       "      <th>stroke</th>\n",
       "    </tr>\n",
       "  </thead>\n",
       "  <tbody>\n",
       "    <tr>\n",
       "      <th>0</th>\n",
       "      <td>Male</td>\n",
       "      <td>67.0</td>\n",
       "      <td>0</td>\n",
       "      <td>1</td>\n",
       "      <td>Yes</td>\n",
       "      <td>Private</td>\n",
       "      <td>Urban</td>\n",
       "      <td>228.69</td>\n",
       "      <td>36.6</td>\n",
       "      <td>formerly smoked</td>\n",
       "      <td>1</td>\n",
       "    </tr>\n",
       "    <tr>\n",
       "      <th>1</th>\n",
       "      <td>Male</td>\n",
       "      <td>80.0</td>\n",
       "      <td>0</td>\n",
       "      <td>1</td>\n",
       "      <td>Yes</td>\n",
       "      <td>Private</td>\n",
       "      <td>Rural</td>\n",
       "      <td>105.92</td>\n",
       "      <td>32.5</td>\n",
       "      <td>never smoked</td>\n",
       "      <td>1</td>\n",
       "    </tr>\n",
       "    <tr>\n",
       "      <th>2</th>\n",
       "      <td>Female</td>\n",
       "      <td>49.0</td>\n",
       "      <td>0</td>\n",
       "      <td>0</td>\n",
       "      <td>Yes</td>\n",
       "      <td>Private</td>\n",
       "      <td>Urban</td>\n",
       "      <td>171.23</td>\n",
       "      <td>34.4</td>\n",
       "      <td>smokes</td>\n",
       "      <td>1</td>\n",
       "    </tr>\n",
       "    <tr>\n",
       "      <th>3</th>\n",
       "      <td>Female</td>\n",
       "      <td>79.0</td>\n",
       "      <td>1</td>\n",
       "      <td>0</td>\n",
       "      <td>Yes</td>\n",
       "      <td>Self-employed</td>\n",
       "      <td>Rural</td>\n",
       "      <td>174.12</td>\n",
       "      <td>24.0</td>\n",
       "      <td>never smoked</td>\n",
       "      <td>1</td>\n",
       "    </tr>\n",
       "    <tr>\n",
       "      <th>4</th>\n",
       "      <td>Male</td>\n",
       "      <td>81.0</td>\n",
       "      <td>0</td>\n",
       "      <td>0</td>\n",
       "      <td>Yes</td>\n",
       "      <td>Private</td>\n",
       "      <td>Urban</td>\n",
       "      <td>186.21</td>\n",
       "      <td>29.0</td>\n",
       "      <td>formerly smoked</td>\n",
       "      <td>1</td>\n",
       "    </tr>\n",
       "  </tbody>\n",
       "</table>\n",
       "</div>"
      ],
      "text/plain": [
       "   gender   age  hypertension  heart_disease ever_married      work_type  \\\n",
       "0    Male  67.0             0              1          Yes        Private   \n",
       "1    Male  80.0             0              1          Yes        Private   \n",
       "2  Female  49.0             0              0          Yes        Private   \n",
       "3  Female  79.0             1              0          Yes  Self-employed   \n",
       "4    Male  81.0             0              0          Yes        Private   \n",
       "\n",
       "  Residence_type  avg_glucose_level   bmi   smoking_status  stroke  \n",
       "0          Urban             228.69  36.6  formerly smoked       1  \n",
       "1          Rural             105.92  32.5     never smoked       1  \n",
       "2          Urban             171.23  34.4           smokes       1  \n",
       "3          Rural             174.12  24.0     never smoked       1  \n",
       "4          Urban             186.21  29.0  formerly smoked       1  "
      ]
     },
     "execution_count": 3,
     "metadata": {},
     "output_type": "execute_result"
    }
   ],
   "source": [
    "data.head()"
   ]
  },
  {
   "cell_type": "code",
   "execution_count": 4,
   "id": "0172b1f1",
   "metadata": {},
   "outputs": [],
   "source": [
    "x=data.iloc[:,[1,2,3,7,8]]\n",
    "y=data.iloc[:,-1]"
   ]
  },
  {
   "cell_type": "code",
   "execution_count": 5,
   "id": "d6c79a76",
   "metadata": {},
   "outputs": [],
   "source": [
    "# Data Imbalancing(Over Sampling Technique)"
   ]
  },
  {
   "cell_type": "code",
   "execution_count": 6,
   "id": "6f54c22b",
   "metadata": {},
   "outputs": [
    {
     "name": "stdout",
     "output_type": "stream",
     "text": [
      "Counter({1: 4733, 0: 4733})\n"
     ]
    }
   ],
   "source": [
    "from imblearn.over_sampling import RandomOverSampler\n",
    "from collections import Counter\n",
    "ro=RandomOverSampler()\n",
    "x_resample,y_resample=ro.fit_resample(x,y)\n",
    "print(Counter(y_resample))"
   ]
  },
  {
   "cell_type": "code",
   "execution_count": 7,
   "id": "19e35215",
   "metadata": {},
   "outputs": [],
   "source": [
    "# Feature Scaling by StandardScaler()\n"
   ]
  },
  {
   "cell_type": "code",
   "execution_count": 8,
   "id": "c80f1e0d",
   "metadata": {},
   "outputs": [
    {
     "data": {
      "text/plain": [
       "array([[ 0.54148881, -0.46367193,  2.67851427,  1.99742366,  1.13483081],\n",
       "       [ 1.12483554, -0.46367193,  2.67851427, -0.22786353,  0.49096004],\n",
       "       [-0.26622204, -0.46367193, -0.3733413 ,  0.95592328,  0.78933918],\n",
       "       ...,\n",
       "       [ 0.18250621, -0.46367193, -0.3733413 , -0.13506015,  0.41243922],\n",
       "       [-0.22134922, -0.46367193, -0.3733413 , -0.29601601,  0.31821423],\n",
       "       [ 0.58636163, -0.46367193, -0.3733413 ,  1.67786829,  1.55884326]])"
      ]
     },
     "execution_count": 8,
     "metadata": {},
     "output_type": "execute_result"
    }
   ],
   "source": [
    "# Feature Scaling by StandardScaler()\n",
    "from sklearn.preprocessing import StandardScaler\n",
    "ss=StandardScaler()\n",
    "x_data=ss.fit_transform(x_resample)\n",
    "x_data"
   ]
  },
  {
   "cell_type": "code",
   "execution_count": 9,
   "id": "57245db0",
   "metadata": {},
   "outputs": [],
   "source": [
    "from sklearn.model_selection import train_test_split\n",
    "x_train,x_test,y_train,y_test=train_test_split(x_resample,y_resample,test_size=0.2,random_state=21)\n"
   ]
  },
  {
   "cell_type": "code",
   "execution_count": 10,
   "id": "77cd5ee6",
   "metadata": {},
   "outputs": [
    {
     "name": "stdout",
     "output_type": "stream",
     "text": [
      "Counter({0: 3802, 1: 3770})\n",
      "Counter({1: 963, 0: 931})\n"
     ]
    }
   ],
   "source": [
    "print(Counter(y_train))\n",
    "print(Counter(y_test))"
   ]
  },
  {
   "cell_type": "markdown",
   "id": "10c3ec33",
   "metadata": {},
   "source": [
    "# Model Imbalancing--> Cross_validation\n"
   ]
  },
  {
   "cell_type": "code",
   "execution_count": 11,
   "id": "54e448dd",
   "metadata": {},
   "outputs": [
    {
     "name": "stdout",
     "output_type": "stream",
     "text": [
      "KFold(n_splits=5, random_state=100, shuffle=True)\n"
     ]
    }
   ],
   "source": [
    "from sklearn.model_selection import KFold\n",
    "kf=KFold(n_splits=5,random_state=100,shuffle=True)\n",
    "kf.get_n_splits(x_data)\n",
    "print(kf)"
   ]
  },
  {
   "cell_type": "code",
   "execution_count": 12,
   "id": "6ef287f1",
   "metadata": {},
   "outputs": [],
   "source": [
    "from sklearn.model_selection import cross_val_score\n",
    "from sklearn.model_selection import cross_val_predict\n",
    "from sklearn.linear_model import LogisticRegression\n",
    "l1=LogisticRegression()"
   ]
  },
  {
   "cell_type": "code",
   "execution_count": 13,
   "id": "3c1b2fde",
   "metadata": {},
   "outputs": [
    {
     "name": "stdout",
     "output_type": "stream",
     "text": [
      "[0.77359736 0.75511551 0.77410832 0.77410832 0.78731836]\n",
      "[0 0 1 ... 1 1 0]\n"
     ]
    }
   ],
   "source": [
    "#without Iteration based cross validation\n",
    "scores=cross_val_score(l1,x_train,y_train,cv=kf)\n",
    "y_pred=cross_val_predict(l1,x_test,y_test,cv=kf)\n",
    "print(scores)\n",
    "print(y_pred)"
   ]
  },
  {
   "cell_type": "code",
   "execution_count": 14,
   "id": "0b1ee245",
   "metadata": {},
   "outputs": [],
   "source": [
    "y_data=y_resample"
   ]
  },
  {
   "cell_type": "code",
   "execution_count": 15,
   "id": "bec7a3e4",
   "metadata": {},
   "outputs": [
    {
     "name": "stdout",
     "output_type": "stream",
     "text": [
      "Checking Balancing y test........ Counter({1: 953, 0: 941})\n",
      "[1 0 1 ... 0 1 1]\n",
      "[0.76567657 0.7709571  0.77476882 0.76882431 0.78863937]\n",
      "77.37732320127654\n",
      "Checking Balancing y test........ Counter({0: 969, 1: 924})\n",
      "[1 1 1 ... 1 1 1]\n",
      "[0.78019802 0.76369637 0.77161716 0.78005284 0.76354029]\n",
      "77.18209363869015\n",
      "Checking Balancing y test........ Counter({1: 957, 0: 936})\n",
      "[1 1 1 ... 1 1 0]\n",
      "[0.77953795 0.75973597 0.79471947 0.7675033  0.78269485]\n",
      "77.68383099868771\n",
      "Checking Balancing y test........ Counter({0: 947, 1: 946})\n",
      "[1 1 1 ... 1 0 1]\n",
      "[0.77425743 0.77689769 0.77821782 0.78533686 0.76882431]\n",
      "77.67068199554433\n",
      "Checking Balancing y test........ Counter({1: 953, 0: 940})\n",
      "[0 1 1 ... 1 1 0]\n",
      "[0.76633663 0.78415842 0.77623762 0.76287979 0.78665786]\n",
      "77.52540643760545\n"
     ]
    }
   ],
   "source": [
    "kx_train_data=[]\n",
    "kx_test_data=[]\n",
    "ky_train_data=[]\n",
    "ky_test_data=[]\n",
    "for train_data,test_data in kf.split(x_data):\n",
    "    x_train,x_test=x_data[train_data],x_data[test_data]\n",
    "    y_train,y_test=y_data[train_data],y_data[test_data]\n",
    "    scores=cross_val_score(l1,x_train,y_train,cv=kf)\n",
    "    y_pred=cross_val_predict(l1,x_test,y_test,cv=kf)\n",
    "    kx_train_data.append(x_train)\n",
    "    kx_test_data.append(x_test)\n",
    "    ky_train_data.append(y_train)\n",
    "    ky_test_data.append(y_test)\n",
    "    print(\"Checking Balancing y test........\",Counter(y_test))\n",
    "    print(y_pred)\n",
    "    print(scores)\n",
    "    print(np.mean(scores)*100)\n"
   ]
  },
  {
   "cell_type": "code",
   "execution_count": 16,
   "id": "6f42100d",
   "metadata": {},
   "outputs": [
    {
     "name": "stdout",
     "output_type": "stream",
     "text": [
      "Checking y_test Balancing: Counter({1: 953, 0: 941})\n",
      "Checking y_train Balancing: Counter({0: 3792, 1: 3780})\n",
      "[0.76567657 0.7709571  0.77476882 0.76882431 0.78863937]\n",
      "-------------------------------------------------------\n",
      "Checking y_test Balancing: Counter({0: 969, 1: 924})\n",
      "Checking y_train Balancing: Counter({1: 3809, 0: 3764})\n",
      "[0.78019802 0.76369637 0.77161716 0.78005284 0.76354029]\n",
      "-------------------------------------------------------\n",
      "Checking y_test Balancing: Counter({1: 957, 0: 936})\n",
      "Checking y_train Balancing: Counter({0: 3797, 1: 3776})\n",
      "[0.77953795 0.75973597 0.79471947 0.7675033  0.78269485]\n",
      "-------------------------------------------------------\n",
      "Checking y_test Balancing: Counter({0: 947, 1: 946})\n",
      "Checking y_train Balancing: Counter({1: 3787, 0: 3786})\n",
      "[0.77425743 0.77689769 0.77821782 0.78533686 0.76882431]\n",
      "-------------------------------------------------------\n",
      "Checking y_test Balancing: Counter({1: 953, 0: 940})\n",
      "Checking y_train Balancing: Counter({0: 3793, 1: 3780})\n",
      "[0.76633663 0.78415842 0.77623762 0.76287979 0.78665786]\n",
      "-------------------------------------------------------\n"
     ]
    }
   ],
   "source": [
    "for train_data,test_data in kf.split(x_data,y_data):\n",
    "    x_train,x_test=x_data[train_data],x_data[test_data]\n",
    "    y_train,y_test=y_data[train_data],y_data[test_data]\n",
    "    scores=cross_val_score(l1,x_train,y_train,cv=kf)\n",
    "    y_pred=cross_val_predict(l1,x_test,y_test,cv=kf)\n",
    "    print(\"Checking y_test Balancing:\",Counter(y_test))\n",
    "    print(\"Checking y_train Balancing:\",Counter(y_train))\n",
    "    print(scores)\n",
    "    print(\"-------------------------------------------------------\")"
   ]
  },
  {
   "cell_type": "markdown",
   "id": "fd75f095",
   "metadata": {},
   "source": [
    "# StratifiedKFold Cross Validation"
   ]
  },
  {
   "cell_type": "code",
   "execution_count": 17,
   "id": "43413fb1",
   "metadata": {},
   "outputs": [
    {
     "name": "stdout",
     "output_type": "stream",
     "text": [
      "StratifiedKFold(n_splits=5, random_state=100, shuffle=True)\n"
     ]
    }
   ],
   "source": [
    "from sklearn.model_selection import StratifiedKFold\n",
    "skf=StratifiedKFold(n_splits=5,random_state=100,shuffle=True)\n",
    "skf.get_n_splits(x_data,y_data)\n",
    "print(skf)"
   ]
  },
  {
   "cell_type": "code",
   "execution_count": 18,
   "id": "6fb40981",
   "metadata": {},
   "outputs": [],
   "source": [
    "from sklearn.model_selection import cross_val_score\n",
    "from sklearn.model_selection import cross_val_predict\n",
    "from sklearn.linear_model import LogisticRegression\n",
    "l1=LogisticRegression()"
   ]
  },
  {
   "cell_type": "code",
   "execution_count": 19,
   "id": "c4926d3c",
   "metadata": {},
   "outputs": [
    {
     "name": "stdout",
     "output_type": "stream",
     "text": [
      "[0.78217822 0.76963696 0.7650165  0.77344782 0.78996037]\n",
      "[0 1 1 ... 1 1 0]\n"
     ]
    }
   ],
   "source": [
    "scores=cross_val_score(l1,x_train,y_train,cv=skf)\n",
    "y_pred=cross_val_predict(l1,x_test,y_test,cv=skf)\n",
    "print(scores)\n",
    "print(y_pred)"
   ]
  },
  {
   "cell_type": "code",
   "execution_count": 20,
   "id": "7e312ba1",
   "metadata": {},
   "outputs": [
    {
     "name": "stdout",
     "output_type": "stream",
     "text": [
      "Checking Balancing.......: Counter({1: 953, 0: 940})\n",
      "[0 1 1 ... 1 1 0]\n",
      "[0.78217822 0.76963696 0.7650165  0.77344782 0.78996037]\n",
      "77.60479746785775\n",
      "Checking Balancing.......: Counter({1: 953, 0: 940})\n",
      "[0 1 1 ... 1 1 0]\n",
      "[0.78217822 0.76963696 0.7650165  0.77344782 0.78996037]\n",
      "77.60479746785775\n",
      "Checking Balancing.......: Counter({1: 953, 0: 940})\n",
      "[0 1 1 ... 1 1 0]\n",
      "[0.78217822 0.76963696 0.7650165  0.77344782 0.78996037]\n",
      "77.60479746785775\n",
      "Checking Balancing.......: Counter({1: 953, 0: 940})\n",
      "[0 1 1 ... 1 1 0]\n",
      "[0.78217822 0.76963696 0.7650165  0.77344782 0.78996037]\n",
      "77.60479746785775\n",
      "Checking Balancing.......: Counter({1: 953, 0: 940})\n",
      "[0 1 1 ... 1 1 0]\n",
      "[0.78217822 0.76963696 0.7650165  0.77344782 0.78996037]\n",
      "77.60479746785775\n"
     ]
    }
   ],
   "source": [
    "kx_train_data=[]\n",
    "kx_test_data=[]\n",
    "ky_train_data=[]\n",
    "ky_test_data=[]\n",
    "for train_data,test_data in skf.split(x_data,y_data):\n",
    "    x1_train,x1_test=x_data[train_data],x_data[test_data]\n",
    "    y1_train,y1_test=y_data[train_data],y_data[test_data] \n",
    "    scores=cross_val_score(l1,x_train,y_train,cv=skf)\n",
    "    y_pred=cross_val_predict(l1,x_test,y_test,cv=skf)\n",
    "    kx_train_data.append(x_train)\n",
    "    kx_test_data.append(x_test)\n",
    "    ky_train_data.append(y_train)\n",
    "    ky_test_data.append(y_test)\n",
    "    print(\"Checking Balancing.......:\",Counter(y_test))\n",
    "    print(y_pred)\n",
    "    print(scores)\n",
    "    print(np.mean(scores)*100)\n",
    "\n",
    "    "
   ]
  },
  {
   "cell_type": "code",
   "execution_count": 21,
   "id": "d3a14627",
   "metadata": {},
   "outputs": [],
   "source": [
    "d1=pd.Series.to_frame(pd.Series(kx_test_data))\n",
    "d2=pd.Series.to_frame(pd.Series(ky_test_data))"
   ]
  },
  {
   "cell_type": "code",
   "execution_count": 22,
   "id": "1ef8fcb8",
   "metadata": {},
   "outputs": [
    {
     "name": "stdout",
     "output_type": "stream",
     "text": [
      "Checking y_test Balancing: Counter({1: 947, 0: 947})\n",
      "Checking y_train Balancing:  Counter({1: 3786, 0: 3786})\n",
      "[0.78679868 0.77755776 0.77212682 0.76882431 0.78533686]\n",
      "---------------------------------------------------------\n",
      "Checking y_test Balancing: Counter({1: 947, 0: 946})\n",
      "Checking y_train Balancing:  Counter({0: 3787, 1: 3786})\n",
      "[0.7960396  0.7669967  0.75841584 0.77410832 0.7681638 ]\n",
      "---------------------------------------------------------\n",
      "Checking y_test Balancing: Counter({1: 947, 0: 946})\n",
      "Checking y_train Balancing:  Counter({0: 3787, 1: 3786})\n",
      "[0.78745875 0.77821782 0.78283828 0.76486129 0.75561427]\n",
      "---------------------------------------------------------\n",
      "Checking y_test Balancing: Counter({0: 947, 1: 946})\n",
      "Checking y_train Balancing:  Counter({1: 3787, 0: 3786})\n",
      "[0.76633663 0.76105611 0.78415842 0.77410832 0.79128137]\n",
      "---------------------------------------------------------\n",
      "Checking y_test Balancing: Counter({0: 947, 1: 946})\n",
      "Checking y_train Balancing:  Counter({1: 3787, 0: 3786})\n",
      "[0.77623762 0.76369637 0.78019802 0.77080581 0.78996037]\n",
      "---------------------------------------------------------\n"
     ]
    }
   ],
   "source": [
    "for train_data,test_data in skf.split(x_data,y_data):\n",
    "    x_train,x_test=x_data[train_data],x_data[test_data]\n",
    "    y_train,y_test=y_data[train_data],y_data[test_data]\n",
    "    scores=cross_val_score(l1,x_train,y_train,cv=skf)\n",
    "    y_pred=cross_val_predict(l1,x_test,y_test,cv=skf)\n",
    "    print(\"Checking y_test Balancing:\",Counter(y_test))\n",
    "    print(\"Checking y_train Balancing: \",Counter(y_train))\n",
    "    print(scores)\n",
    "    print(\"---------------------------------------------------------\")"
   ]
  },
  {
   "cell_type": "code",
   "execution_count": 23,
   "id": "1b3df38f",
   "metadata": {},
   "outputs": [
    {
     "data": {
      "text/plain": [
       "5"
      ]
     },
     "execution_count": 23,
     "metadata": {},
     "output_type": "execute_result"
    }
   ],
   "source": [
    "from sklearn.model_selection import ShuffleSplit\n",
    "sf=ShuffleSplit(n_splits=5,test_size=0.2,random_state=0)\n",
    "sf.get_n_splits(x_data,y_data)"
   ]
  },
  {
   "cell_type": "code",
   "execution_count": 24,
   "id": "05cf913a",
   "metadata": {},
   "outputs": [
    {
     "name": "stdout",
     "output_type": "stream",
     "text": [
      "Checking y_test Balancing: Counter({1: 950, 0: 944})\n",
      "Checking y_train Balancing: Counter({0: 3789, 1: 3783})\n",
      "78.28382838283828\n",
      "[0.78151815 0.78547855 0.78547855 0.78283828 0.77887789]\n",
      "---------------------------\n",
      "Checking y_test Balancing: Counter({0: 954, 1: 940})\n",
      "Checking y_train Balancing: Counter({1: 3793, 0: 3779})\n",
      "76.97689768976898\n",
      "[0.78415842 0.76633663 0.78481848 0.75973597 0.75379538]\n",
      "---------------------------\n",
      "Checking y_test Balancing: Counter({0: 962, 1: 932})\n",
      "Checking y_train Balancing: Counter({1: 3801, 0: 3771})\n",
      "78.05940594059406\n",
      "[0.78019802 0.77689769 0.79207921 0.78481848 0.7689769 ]\n",
      "---------------------------\n",
      "Checking y_test Balancing: Counter({0: 988, 1: 906})\n",
      "Checking y_train Balancing: Counter({1: 3827, 0: 3745})\n",
      "77.72937293729373\n",
      "[0.78151815 0.76765677 0.77359736 0.77821782 0.78547855]\n",
      "---------------------------\n",
      "Checking y_test Balancing: Counter({0: 968, 1: 926})\n",
      "Checking y_train Balancing: Counter({1: 3807, 0: 3765})\n",
      "78.006600660066\n",
      "[0.7709571  0.77623762 0.7960396  0.77029703 0.78679868]\n",
      "---------------------------\n"
     ]
    }
   ],
   "source": [
    "for train_data,test_data in sf.split(x_data,y_data):\n",
    "    x_train,x_test=x_data[train_data],x_data[test_data]\n",
    "    y_train,y_test=y_data[train_data],y_data[test_data]\n",
    "    scores=cross_val_score(l1,x_train,y_train,cv=sf)\n",
    "    y_pred=cross_val_predict(l1,x_test,y_test,cv=skf)\n",
    "    print(\"Checking y_test Balancing:\",Counter(y_test))\n",
    "    print(\"Checking y_train Balancing:\",Counter(y_train))\n",
    "    print(np.mean(scores)*100)\n",
    "    print(scores)\n",
    "    print(\"---------------------------\")"
   ]
  },
  {
   "cell_type": "code",
   "execution_count": 25,
   "id": "9584cb3e",
   "metadata": {},
   "outputs": [],
   "source": [
    "#Logistic Algorithm"
   ]
  },
  {
   "cell_type": "code",
   "execution_count": 26,
   "id": "c9a2613a",
   "metadata": {},
   "outputs": [
    {
     "data": {
      "text/html": [
       "<style>#sk-container-id-1 {color: black;background-color: white;}#sk-container-id-1 pre{padding: 0;}#sk-container-id-1 div.sk-toggleable {background-color: white;}#sk-container-id-1 label.sk-toggleable__label {cursor: pointer;display: block;width: 100%;margin-bottom: 0;padding: 0.3em;box-sizing: border-box;text-align: center;}#sk-container-id-1 label.sk-toggleable__label-arrow:before {content: \"▸\";float: left;margin-right: 0.25em;color: #696969;}#sk-container-id-1 label.sk-toggleable__label-arrow:hover:before {color: black;}#sk-container-id-1 div.sk-estimator:hover label.sk-toggleable__label-arrow:before {color: black;}#sk-container-id-1 div.sk-toggleable__content {max-height: 0;max-width: 0;overflow: hidden;text-align: left;background-color: #f0f8ff;}#sk-container-id-1 div.sk-toggleable__content pre {margin: 0.2em;color: black;border-radius: 0.25em;background-color: #f0f8ff;}#sk-container-id-1 input.sk-toggleable__control:checked~div.sk-toggleable__content {max-height: 200px;max-width: 100%;overflow: auto;}#sk-container-id-1 input.sk-toggleable__control:checked~label.sk-toggleable__label-arrow:before {content: \"▾\";}#sk-container-id-1 div.sk-estimator input.sk-toggleable__control:checked~label.sk-toggleable__label {background-color: #d4ebff;}#sk-container-id-1 div.sk-label input.sk-toggleable__control:checked~label.sk-toggleable__label {background-color: #d4ebff;}#sk-container-id-1 input.sk-hidden--visually {border: 0;clip: rect(1px 1px 1px 1px);clip: rect(1px, 1px, 1px, 1px);height: 1px;margin: -1px;overflow: hidden;padding: 0;position: absolute;width: 1px;}#sk-container-id-1 div.sk-estimator {font-family: monospace;background-color: #f0f8ff;border: 1px dotted black;border-radius: 0.25em;box-sizing: border-box;margin-bottom: 0.5em;}#sk-container-id-1 div.sk-estimator:hover {background-color: #d4ebff;}#sk-container-id-1 div.sk-parallel-item::after {content: \"\";width: 100%;border-bottom: 1px solid gray;flex-grow: 1;}#sk-container-id-1 div.sk-label:hover label.sk-toggleable__label {background-color: #d4ebff;}#sk-container-id-1 div.sk-serial::before {content: \"\";position: absolute;border-left: 1px solid gray;box-sizing: border-box;top: 0;bottom: 0;left: 50%;z-index: 0;}#sk-container-id-1 div.sk-serial {display: flex;flex-direction: column;align-items: center;background-color: white;padding-right: 0.2em;padding-left: 0.2em;position: relative;}#sk-container-id-1 div.sk-item {position: relative;z-index: 1;}#sk-container-id-1 div.sk-parallel {display: flex;align-items: stretch;justify-content: center;background-color: white;position: relative;}#sk-container-id-1 div.sk-item::before, #sk-container-id-1 div.sk-parallel-item::before {content: \"\";position: absolute;border-left: 1px solid gray;box-sizing: border-box;top: 0;bottom: 0;left: 50%;z-index: -1;}#sk-container-id-1 div.sk-parallel-item {display: flex;flex-direction: column;z-index: 1;position: relative;background-color: white;}#sk-container-id-1 div.sk-parallel-item:first-child::after {align-self: flex-end;width: 50%;}#sk-container-id-1 div.sk-parallel-item:last-child::after {align-self: flex-start;width: 50%;}#sk-container-id-1 div.sk-parallel-item:only-child::after {width: 0;}#sk-container-id-1 div.sk-dashed-wrapped {border: 1px dashed gray;margin: 0 0.4em 0.5em 0.4em;box-sizing: border-box;padding-bottom: 0.4em;background-color: white;}#sk-container-id-1 div.sk-label label {font-family: monospace;font-weight: bold;display: inline-block;line-height: 1.2em;}#sk-container-id-1 div.sk-label-container {text-align: center;}#sk-container-id-1 div.sk-container {/* jupyter's `normalize.less` sets `[hidden] { display: none; }` but bootstrap.min.css set `[hidden] { display: none !important; }` so we also need the `!important` here to be able to override the default hidden behavior on the sphinx rendered scikit-learn.org. See: https://github.com/scikit-learn/scikit-learn/issues/21755 */display: inline-block !important;position: relative;}#sk-container-id-1 div.sk-text-repr-fallback {display: none;}</style><div id=\"sk-container-id-1\" class=\"sk-top-container\"><div class=\"sk-text-repr-fallback\"><pre>LogisticRegression()</pre><b>In a Jupyter environment, please rerun this cell to show the HTML representation or trust the notebook. <br />On GitHub, the HTML representation is unable to render, please try loading this page with nbviewer.org.</b></div><div class=\"sk-container\" hidden><div class=\"sk-item\"><div class=\"sk-estimator sk-toggleable\"><input class=\"sk-toggleable__control sk-hidden--visually\" id=\"sk-estimator-id-1\" type=\"checkbox\" checked><label for=\"sk-estimator-id-1\" class=\"sk-toggleable__label sk-toggleable__label-arrow\">LogisticRegression</label><div class=\"sk-toggleable__content\"><pre>LogisticRegression()</pre></div></div></div></div></div>"
      ],
      "text/plain": [
       "LogisticRegression()"
      ]
     },
     "execution_count": 26,
     "metadata": {},
     "output_type": "execute_result"
    }
   ],
   "source": [
    "from sklearn.linear_model import LogisticRegression\n",
    "l1=LogisticRegression()\n",
    "l1.fit(x_train,y_train)\n"
   ]
  },
  {
   "cell_type": "code",
   "execution_count": 27,
   "id": "418f9970",
   "metadata": {},
   "outputs": [
    {
     "name": "stdout",
     "output_type": "stream",
     "text": [
      "75.55438225976768\n",
      "LogisticRegression [1 0 1 ... 1 1 1]\n"
     ]
    }
   ],
   "source": [
    "from sklearn.metrics import accuracy_score\n",
    "y_pred=l1.predict(x_test)\n",
    "ac=accuracy_score(y_test,y_pred)*100\n",
    "print(ac)\n",
    "print(\"LogisticRegression\",y_pred)"
   ]
  },
  {
   "cell_type": "code",
   "execution_count": 28,
   "id": "03de6812",
   "metadata": {},
   "outputs": [],
   "source": [
    "#KNN Algorithm"
   ]
  },
  {
   "cell_type": "code",
   "execution_count": 29,
   "id": "0eba99b0",
   "metadata": {},
   "outputs": [
    {
     "name": "stdout",
     "output_type": "stream",
     "text": [
      "KNN [1 0 1 ... 0 1 1]\n"
     ]
    }
   ],
   "source": [
    "from sklearn.neighbors import KNeighborsClassifier\n",
    "k1=KNeighborsClassifier(n_neighbors=5,metric=\"minkowski\",p=1)\n",
    "k1.fit(x_train,y_train)\n",
    "yknn_pred=k1.predict(x_test)\n",
    "print(\"KNN\",yknn_pred)"
   ]
  },
  {
   "cell_type": "code",
   "execution_count": 30,
   "id": "254ff7a3",
   "metadata": {},
   "outputs": [
    {
     "name": "stdout",
     "output_type": "stream",
     "text": [
      "92.76663146779302\n"
     ]
    }
   ],
   "source": [
    "ac_knn=accuracy_score(y_test,yknn_pred)*100\n",
    "print(ac_knn)"
   ]
  },
  {
   "cell_type": "code",
   "execution_count": 31,
   "id": "aca9d209",
   "metadata": {},
   "outputs": [],
   "source": [
    "#SVM Algorithm"
   ]
  },
  {
   "cell_type": "code",
   "execution_count": 32,
   "id": "0cc583c0",
   "metadata": {},
   "outputs": [
    {
     "data": {
      "text/html": [
       "<style>#sk-container-id-2 {color: black;background-color: white;}#sk-container-id-2 pre{padding: 0;}#sk-container-id-2 div.sk-toggleable {background-color: white;}#sk-container-id-2 label.sk-toggleable__label {cursor: pointer;display: block;width: 100%;margin-bottom: 0;padding: 0.3em;box-sizing: border-box;text-align: center;}#sk-container-id-2 label.sk-toggleable__label-arrow:before {content: \"▸\";float: left;margin-right: 0.25em;color: #696969;}#sk-container-id-2 label.sk-toggleable__label-arrow:hover:before {color: black;}#sk-container-id-2 div.sk-estimator:hover label.sk-toggleable__label-arrow:before {color: black;}#sk-container-id-2 div.sk-toggleable__content {max-height: 0;max-width: 0;overflow: hidden;text-align: left;background-color: #f0f8ff;}#sk-container-id-2 div.sk-toggleable__content pre {margin: 0.2em;color: black;border-radius: 0.25em;background-color: #f0f8ff;}#sk-container-id-2 input.sk-toggleable__control:checked~div.sk-toggleable__content {max-height: 200px;max-width: 100%;overflow: auto;}#sk-container-id-2 input.sk-toggleable__control:checked~label.sk-toggleable__label-arrow:before {content: \"▾\";}#sk-container-id-2 div.sk-estimator input.sk-toggleable__control:checked~label.sk-toggleable__label {background-color: #d4ebff;}#sk-container-id-2 div.sk-label input.sk-toggleable__control:checked~label.sk-toggleable__label {background-color: #d4ebff;}#sk-container-id-2 input.sk-hidden--visually {border: 0;clip: rect(1px 1px 1px 1px);clip: rect(1px, 1px, 1px, 1px);height: 1px;margin: -1px;overflow: hidden;padding: 0;position: absolute;width: 1px;}#sk-container-id-2 div.sk-estimator {font-family: monospace;background-color: #f0f8ff;border: 1px dotted black;border-radius: 0.25em;box-sizing: border-box;margin-bottom: 0.5em;}#sk-container-id-2 div.sk-estimator:hover {background-color: #d4ebff;}#sk-container-id-2 div.sk-parallel-item::after {content: \"\";width: 100%;border-bottom: 1px solid gray;flex-grow: 1;}#sk-container-id-2 div.sk-label:hover label.sk-toggleable__label {background-color: #d4ebff;}#sk-container-id-2 div.sk-serial::before {content: \"\";position: absolute;border-left: 1px solid gray;box-sizing: border-box;top: 0;bottom: 0;left: 50%;z-index: 0;}#sk-container-id-2 div.sk-serial {display: flex;flex-direction: column;align-items: center;background-color: white;padding-right: 0.2em;padding-left: 0.2em;position: relative;}#sk-container-id-2 div.sk-item {position: relative;z-index: 1;}#sk-container-id-2 div.sk-parallel {display: flex;align-items: stretch;justify-content: center;background-color: white;position: relative;}#sk-container-id-2 div.sk-item::before, #sk-container-id-2 div.sk-parallel-item::before {content: \"\";position: absolute;border-left: 1px solid gray;box-sizing: border-box;top: 0;bottom: 0;left: 50%;z-index: -1;}#sk-container-id-2 div.sk-parallel-item {display: flex;flex-direction: column;z-index: 1;position: relative;background-color: white;}#sk-container-id-2 div.sk-parallel-item:first-child::after {align-self: flex-end;width: 50%;}#sk-container-id-2 div.sk-parallel-item:last-child::after {align-self: flex-start;width: 50%;}#sk-container-id-2 div.sk-parallel-item:only-child::after {width: 0;}#sk-container-id-2 div.sk-dashed-wrapped {border: 1px dashed gray;margin: 0 0.4em 0.5em 0.4em;box-sizing: border-box;padding-bottom: 0.4em;background-color: white;}#sk-container-id-2 div.sk-label label {font-family: monospace;font-weight: bold;display: inline-block;line-height: 1.2em;}#sk-container-id-2 div.sk-label-container {text-align: center;}#sk-container-id-2 div.sk-container {/* jupyter's `normalize.less` sets `[hidden] { display: none; }` but bootstrap.min.css set `[hidden] { display: none !important; }` so we also need the `!important` here to be able to override the default hidden behavior on the sphinx rendered scikit-learn.org. See: https://github.com/scikit-learn/scikit-learn/issues/21755 */display: inline-block !important;position: relative;}#sk-container-id-2 div.sk-text-repr-fallback {display: none;}</style><div id=\"sk-container-id-2\" class=\"sk-top-container\"><div class=\"sk-text-repr-fallback\"><pre>SVC(random_state=11)</pre><b>In a Jupyter environment, please rerun this cell to show the HTML representation or trust the notebook. <br />On GitHub, the HTML representation is unable to render, please try loading this page with nbviewer.org.</b></div><div class=\"sk-container\" hidden><div class=\"sk-item\"><div class=\"sk-estimator sk-toggleable\"><input class=\"sk-toggleable__control sk-hidden--visually\" id=\"sk-estimator-id-2\" type=\"checkbox\" checked><label for=\"sk-estimator-id-2\" class=\"sk-toggleable__label sk-toggleable__label-arrow\">SVC</label><div class=\"sk-toggleable__content\"><pre>SVC(random_state=11)</pre></div></div></div></div></div>"
      ],
      "text/plain": [
       "SVC(random_state=11)"
      ]
     },
     "execution_count": 32,
     "metadata": {},
     "output_type": "execute_result"
    }
   ],
   "source": [
    "from sklearn.svm import SVC\n",
    "s1=SVC(random_state=11)\n",
    "s1.fit(x_train,y_train)"
   ]
  },
  {
   "cell_type": "code",
   "execution_count": 33,
   "id": "ec8fae3d",
   "metadata": {},
   "outputs": [
    {
     "name": "stdout",
     "output_type": "stream",
     "text": [
      "76.34635691657867\n",
      "SVM [1 0 1 ... 1 1 1]\n"
     ]
    }
   ],
   "source": [
    "ysvm_pred=s1.predict(x_test)\n",
    "ac_svm=accuracy_score(y_test,ysvm_pred)*100\n",
    "print(ac_svm)\n",
    "print(\"SVM\",ysvm_pred)"
   ]
  },
  {
   "cell_type": "code",
   "execution_count": 34,
   "id": "fcc97db2",
   "metadata": {},
   "outputs": [],
   "source": [
    "#OR"
   ]
  },
  {
   "cell_type": "code",
   "execution_count": 35,
   "id": "0bb1edf7",
   "metadata": {},
   "outputs": [],
   "source": [
    "from sklearn.linear_model import LogisticRegression\n",
    "from sklearn.neighbors import KNeighborsClassifier\n",
    "from sklearn.ensemble import RandomForestClassifier\n",
    "from sklearn.svm import SVC\n",
    "from collections import Counter\n",
    "l=LogisticRegression()\n",
    "k=KNeighborsClassifier()\n",
    "s=SVC()\n",
    "r= RandomForestClassifier()"
   ]
  },
  {
   "cell_type": "code",
   "execution_count": 36,
   "id": "bf40a155",
   "metadata": {},
   "outputs": [
    {
     "name": "stdout",
     "output_type": "stream",
     "text": [
      "LogisticRegression()\n",
      "KNeighborsClassifier()\n",
      "SVC()\n",
      "RandomForestClassifier()\n"
     ]
    }
   ],
   "source": [
    "print(l.fit(x_train,y_train))\n",
    "print(k.fit(x_train,y_train))\n",
    "print(s.fit(x_train,y_train))\n",
    "print(r.fit(x_train,y_train))"
   ]
  },
  {
   "cell_type": "code",
   "execution_count": 37,
   "id": "8aeceaf0",
   "metadata": {},
   "outputs": [
    {
     "name": "stdout",
     "output_type": "stream",
     "text": [
      "LogisticRegression \n",
      " Accuracy score:  0.7555438225976768 \n",
      " Precision score:  0.7190160832544938 \n",
      " Recall score:  0.8207343412526998 \n",
      " F1 score:  0.7665153807362584 \n",
      " ROC AUC score:  0.7569580797172589 \n",
      "\n",
      "KNeighborsClassifier \n",
      " Accuracy score:  0.9260823653643083 \n",
      " Precision score:  0.8686679174484052 \n",
      " Recall score:  1.0 \n",
      " F1 score:  0.929718875502008 \n",
      " ROC AUC score:  0.9276859504132232 \n",
      "\n",
      "SVC \n",
      " Accuracy score:  0.7634635691657867 \n",
      " Precision score:  0.7176684881602914 \n",
      " Recall score:  0.8509719222462203 \n",
      " F1 score:  0.7786561264822135 \n",
      " ROC AUC score:  0.7653619941809614 \n",
      "\n",
      "RandomForestClassifier \n",
      " Accuracy score:  0.9836325237592397 \n",
      " Precision score:  0.96760710553814 \n",
      " Recall score:  1.0 \n",
      " F1 score:  0.9835369091874667 \n",
      " ROC AUC score:  0.983987603305785 \n",
      "\n"
     ]
    }
   ],
   "source": [
    "from sklearn.metrics import accuracy_score, precision_score, recall_score, confusion_matrix, f1_score, roc_auc_score\n",
    "for clf in (l,k,s,r):\n",
    "    y_pred = clf.predict(x_test)\n",
    "    print(\n",
    "        clf.__class__.__name__,\n",
    "        '\\n',\n",
    "        'Accuracy score: ',accuracy_score(y_test, y_pred), '\\n',\n",
    "        'Precision score: ',precision_score(y_test, y_pred, zero_division = 1), '\\n',\n",
    "        'Recall score: ',recall_score(y_test, y_pred, zero_division = 1), '\\n',\n",
    "        'F1 score: ',f1_score(y_test, y_pred, zero_division = 1), '\\n',\n",
    "        'ROC AUC score: ',roc_auc_score(y_test, y_pred), '\\n', \n",
    "\n",
    "    )"
   ]
  },
  {
   "cell_type": "code",
   "execution_count": null,
   "id": "c5225d30",
   "metadata": {},
   "outputs": [],
   "source": []
  },
  {
   "cell_type": "code",
   "execution_count": 38,
   "id": "8d5c3bf6",
   "metadata": {},
   "outputs": [],
   "source": [
    "#Voting Classifier"
   ]
  },
  {
   "cell_type": "code",
   "execution_count": 45,
   "id": "8267ae74",
   "metadata": {},
   "outputs": [
    {
     "name": "stdout",
     "output_type": "stream",
     "text": [
      "Voting Classifier [1 0 1 ... 1 1 1]\n"
     ]
    }
   ],
   "source": [
    "from sklearn.ensemble import VotingClassifier\n",
    "vote=VotingClassifier(estimators=[(\"Logistic\",l1),(\"KNN\",l1),(\"SVM\",s1),(\"Random Forest\",r)])\n",
    "vote.fit(x_train,y_train)\n",
    "y_vote=vote.predict(x_test)\n",
    "print(\"Voting Classifier\",y_vote)"
   ]
  },
  {
   "cell_type": "code",
   "execution_count": 46,
   "id": "42c481a3",
   "metadata": {},
   "outputs": [
    {
     "name": "stdout",
     "output_type": "stream",
     "text": [
      "Voting Classifier 76.34635691657867\n"
     ]
    }
   ],
   "source": [
    "a_vote=accuracy_score(y_test,y_vote)*100\n",
    "print(\"Voting Classifier\",a_vote)"
   ]
  },
  {
   "cell_type": "code",
   "execution_count": 47,
   "id": "b81d3bb2",
   "metadata": {},
   "outputs": [
    {
     "data": {
      "text/html": [
       "<style>#sk-container-id-4 {color: black;background-color: white;}#sk-container-id-4 pre{padding: 0;}#sk-container-id-4 div.sk-toggleable {background-color: white;}#sk-container-id-4 label.sk-toggleable__label {cursor: pointer;display: block;width: 100%;margin-bottom: 0;padding: 0.3em;box-sizing: border-box;text-align: center;}#sk-container-id-4 label.sk-toggleable__label-arrow:before {content: \"▸\";float: left;margin-right: 0.25em;color: #696969;}#sk-container-id-4 label.sk-toggleable__label-arrow:hover:before {color: black;}#sk-container-id-4 div.sk-estimator:hover label.sk-toggleable__label-arrow:before {color: black;}#sk-container-id-4 div.sk-toggleable__content {max-height: 0;max-width: 0;overflow: hidden;text-align: left;background-color: #f0f8ff;}#sk-container-id-4 div.sk-toggleable__content pre {margin: 0.2em;color: black;border-radius: 0.25em;background-color: #f0f8ff;}#sk-container-id-4 input.sk-toggleable__control:checked~div.sk-toggleable__content {max-height: 200px;max-width: 100%;overflow: auto;}#sk-container-id-4 input.sk-toggleable__control:checked~label.sk-toggleable__label-arrow:before {content: \"▾\";}#sk-container-id-4 div.sk-estimator input.sk-toggleable__control:checked~label.sk-toggleable__label {background-color: #d4ebff;}#sk-container-id-4 div.sk-label input.sk-toggleable__control:checked~label.sk-toggleable__label {background-color: #d4ebff;}#sk-container-id-4 input.sk-hidden--visually {border: 0;clip: rect(1px 1px 1px 1px);clip: rect(1px, 1px, 1px, 1px);height: 1px;margin: -1px;overflow: hidden;padding: 0;position: absolute;width: 1px;}#sk-container-id-4 div.sk-estimator {font-family: monospace;background-color: #f0f8ff;border: 1px dotted black;border-radius: 0.25em;box-sizing: border-box;margin-bottom: 0.5em;}#sk-container-id-4 div.sk-estimator:hover {background-color: #d4ebff;}#sk-container-id-4 div.sk-parallel-item::after {content: \"\";width: 100%;border-bottom: 1px solid gray;flex-grow: 1;}#sk-container-id-4 div.sk-label:hover label.sk-toggleable__label {background-color: #d4ebff;}#sk-container-id-4 div.sk-serial::before {content: \"\";position: absolute;border-left: 1px solid gray;box-sizing: border-box;top: 0;bottom: 0;left: 50%;z-index: 0;}#sk-container-id-4 div.sk-serial {display: flex;flex-direction: column;align-items: center;background-color: white;padding-right: 0.2em;padding-left: 0.2em;position: relative;}#sk-container-id-4 div.sk-item {position: relative;z-index: 1;}#sk-container-id-4 div.sk-parallel {display: flex;align-items: stretch;justify-content: center;background-color: white;position: relative;}#sk-container-id-4 div.sk-item::before, #sk-container-id-4 div.sk-parallel-item::before {content: \"\";position: absolute;border-left: 1px solid gray;box-sizing: border-box;top: 0;bottom: 0;left: 50%;z-index: -1;}#sk-container-id-4 div.sk-parallel-item {display: flex;flex-direction: column;z-index: 1;position: relative;background-color: white;}#sk-container-id-4 div.sk-parallel-item:first-child::after {align-self: flex-end;width: 50%;}#sk-container-id-4 div.sk-parallel-item:last-child::after {align-self: flex-start;width: 50%;}#sk-container-id-4 div.sk-parallel-item:only-child::after {width: 0;}#sk-container-id-4 div.sk-dashed-wrapped {border: 1px dashed gray;margin: 0 0.4em 0.5em 0.4em;box-sizing: border-box;padding-bottom: 0.4em;background-color: white;}#sk-container-id-4 div.sk-label label {font-family: monospace;font-weight: bold;display: inline-block;line-height: 1.2em;}#sk-container-id-4 div.sk-label-container {text-align: center;}#sk-container-id-4 div.sk-container {/* jupyter's `normalize.less` sets `[hidden] { display: none; }` but bootstrap.min.css set `[hidden] { display: none !important; }` so we also need the `!important` here to be able to override the default hidden behavior on the sphinx rendered scikit-learn.org. See: https://github.com/scikit-learn/scikit-learn/issues/21755 */display: inline-block !important;position: relative;}#sk-container-id-4 div.sk-text-repr-fallback {display: none;}</style><div id=\"sk-container-id-4\" class=\"sk-top-container\"><div class=\"sk-text-repr-fallback\"><pre>BaggingClassifier(base_estimator=RandomForestClassifier(), n_estimators=5,\n",
       "                  random_state=14)</pre><b>In a Jupyter environment, please rerun this cell to show the HTML representation or trust the notebook. <br />On GitHub, the HTML representation is unable to render, please try loading this page with nbviewer.org.</b></div><div class=\"sk-container\" hidden><div class=\"sk-item sk-dashed-wrapped\"><div class=\"sk-label-container\"><div class=\"sk-label sk-toggleable\"><input class=\"sk-toggleable__control sk-hidden--visually\" id=\"sk-estimator-id-6\" type=\"checkbox\" ><label for=\"sk-estimator-id-6\" class=\"sk-toggleable__label sk-toggleable__label-arrow\">BaggingClassifier</label><div class=\"sk-toggleable__content\"><pre>BaggingClassifier(base_estimator=RandomForestClassifier(), n_estimators=5,\n",
       "                  random_state=14)</pre></div></div></div><div class=\"sk-parallel\"><div class=\"sk-parallel-item\"><div class=\"sk-item\"><div class=\"sk-label-container\"><div class=\"sk-label sk-toggleable\"><input class=\"sk-toggleable__control sk-hidden--visually\" id=\"sk-estimator-id-7\" type=\"checkbox\" ><label for=\"sk-estimator-id-7\" class=\"sk-toggleable__label sk-toggleable__label-arrow\">base_estimator: RandomForestClassifier</label><div class=\"sk-toggleable__content\"><pre>RandomForestClassifier()</pre></div></div></div><div class=\"sk-serial\"><div class=\"sk-item\"><div class=\"sk-estimator sk-toggleable\"><input class=\"sk-toggleable__control sk-hidden--visually\" id=\"sk-estimator-id-8\" type=\"checkbox\" ><label for=\"sk-estimator-id-8\" class=\"sk-toggleable__label sk-toggleable__label-arrow\">RandomForestClassifier</label><div class=\"sk-toggleable__content\"><pre>RandomForestClassifier()</pre></div></div></div></div></div></div></div></div></div></div>"
      ],
      "text/plain": [
       "BaggingClassifier(base_estimator=RandomForestClassifier(), n_estimators=5,\n",
       "                  random_state=14)"
      ]
     },
     "execution_count": 47,
     "metadata": {},
     "output_type": "execute_result"
    }
   ],
   "source": [
    "#Bagging Classifier\n",
    "from sklearn.ensemble import BaggingClassifier\n",
    "bg=BaggingClassifier(base_estimator=r,n_estimators=5,random_state=14)\n",
    "bg.fit(x_train,y_train)"
   ]
  },
  {
   "cell_type": "code",
   "execution_count": 48,
   "id": "7b630475",
   "metadata": {},
   "outputs": [
    {
     "name": "stdout",
     "output_type": "stream",
     "text": [
      "97.51847940865892\n"
     ]
    }
   ],
   "source": [
    "bg_vote=bg.predict(x_test)\n",
    "bg1_vote=accuracy_score(y_test,bg_vote)*100\n",
    "print(bg1_vote)"
   ]
  },
  {
   "cell_type": "code",
   "execution_count": 51,
   "id": "2b91ea22",
   "metadata": {},
   "outputs": [],
   "source": [
    "from sklearn.metrics import accuracy_score\n",
    "sc1=accuracy_score(y_test,y_pred)*100"
   ]
  },
  {
   "cell_type": "code",
   "execution_count": 52,
   "id": "d5a52f4d",
   "metadata": {},
   "outputs": [
    {
     "name": "stdout",
     "output_type": "stream",
     "text": [
      "98.36325237592398\n"
     ]
    }
   ],
   "source": [
    "print(sc1)"
   ]
  },
  {
   "cell_type": "code",
   "execution_count": 53,
   "id": "b2a29887",
   "metadata": {},
   "outputs": [
    {
     "data": {
      "text/plain": [
       "(1894,)"
      ]
     },
     "execution_count": 53,
     "metadata": {},
     "output_type": "execute_result"
    }
   ],
   "source": [
    "y_pred.shape"
   ]
  },
  {
   "cell_type": "code",
   "execution_count": null,
   "id": "18a3fd41",
   "metadata": {},
   "outputs": [],
   "source": [
    "from sklearn.metrics import confusion_matrix\n",
    "cm=confusion_matrix(y_test,y_pred)\n",
    "print(cm)"
   ]
  },
  {
   "cell_type": "code",
   "execution_count": 54,
   "id": "6c68b666",
   "metadata": {},
   "outputs": [
    {
     "name": "stdout",
     "output_type": "stream",
     "text": [
      "[[937  31]\n",
      " [  0 926]]\n"
     ]
    }
   ],
   "source": [
    "from sklearn.metrics import confusion_matrix\n",
    "cm=confusion_matrix(y_test,y_pred)\n",
    "print(cm)"
   ]
  },
  {
   "cell_type": "code",
   "execution_count": 55,
   "id": "b77ba2ca",
   "metadata": {},
   "outputs": [
    {
     "name": "stdout",
     "output_type": "stream",
     "text": [
      "              precision    recall  f1-score   support\n",
      "\n",
      "           0       1.00      0.97      0.98       968\n",
      "           1       0.97      1.00      0.98       926\n",
      "\n",
      "    accuracy                           0.98      1894\n",
      "   macro avg       0.98      0.98      0.98      1894\n",
      "weighted avg       0.98      0.98      0.98      1894\n",
      "\n"
     ]
    }
   ],
   "source": [
    "from sklearn.metrics import classification_report\n",
    "cr=classification_report(y_test,y_pred)\n",
    "print(cr)"
   ]
  },
  {
   "cell_type": "code",
   "execution_count": null,
   "id": "54dba490",
   "metadata": {},
   "outputs": [],
   "source": []
  }
 ],
 "metadata": {
  "kernelspec": {
   "display_name": "Python 3 (ipykernel)",
   "language": "python",
   "name": "python3"
  },
  "language_info": {
   "codemirror_mode": {
    "name": "ipython",
    "version": 3
   },
   "file_extension": ".py",
   "mimetype": "text/x-python",
   "name": "python",
   "nbconvert_exporter": "python",
   "pygments_lexer": "ipython3",
   "version": "3.9.7"
  }
 },
 "nbformat": 4,
 "nbformat_minor": 5
}
